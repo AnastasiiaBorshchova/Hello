{
  "nbformat": 4,
  "nbformat_minor": 0,
  "metadata": {
    "colab": {
      "provenance": [],
      "authorship_tag": "ABX9TyN/uxM/LDytomjrk2X8O/uV",
      "include_colab_link": true
    },
    "kernelspec": {
      "name": "python3",
      "display_name": "Python 3"
    },
    "language_info": {
      "name": "python"
    }
  },
  "cells": [
    {
      "cell_type": "markdown",
      "metadata": {
        "id": "view-in-github",
        "colab_type": "text"
      },
      "source": [
        "<a href=\"https://colab.research.google.com/github/AnastasiiaBorshchova/Hello/blob/main/lab1_.ipynb\" target=\"_parent\"><img src=\"https://colab.research.google.com/assets/colab-badge.svg\" alt=\"Open In Colab\"/></a>"
      ]
    },
    {
      "cell_type": "code",
      "execution_count": null,
      "metadata": {
        "id": "pvZfldaJsZ-M"
      },
      "outputs": [],
      "source": []
    },
    {
      "cell_type": "markdown",
      "source": [
        "\n",
        "Лабораторна робота для заочників.\n",
        "Робота з бібліотекою NumPy, Matplotlib\n",
        "Мета. Навчитися виконувати математичні та числові операції над масивами і матрицями,\n",
        "користуючись модулем NumPy (Numeric Python), а також вміти візуалізувати дані з\n",
        "використанням бібліотеки Matplotlib.\n",
        "Завдання 1: виконати завдання згідно варіанту з використанням\n",
        "можливостей бібліотеки NumPy, порівняйте час на виконання\n",
        "відповідних операцій з використанням бібліотеки і без.\n",
        "Варіант 1.\n",
        "Задано 2 одновимірних масиви. Виконайте з ними всі арифметичні операції. Використовуючи\n",
        "метод конкатенації (об’єднання) масивів створіть новий масив з двох попередніх і знайдіть\n",
        "максимальний, мінімальний елемент, суму елементів та їх добуток. Результати всіх операцій\n",
        "вивести на екран, додаючи коментарі."
      ],
      "metadata": {
        "id": "D7G7biJztr1K"
      }
    },
    {
      "cell_type": "code",
      "source": [
        "import numpy as np\n",
        "import time\n",
        "\n",
        "# Створення двох одновимірних масивів\n",
        "arr1 = np.array([1, 2, 3, 4, 5])\n",
        "arr2 = np.array([6, 7, 8, 9, 10])\n",
        "\n",
        "print(\"Масив 1:\", arr1)\n",
        "print(\"Масив 2:\", arr2)\n",
        "\n",
        "# Замір часу роботи NumPy\n",
        "start_numpy = time.time()\n",
        "\n",
        "# Арифметичні операції\n",
        "add = arr1 + arr2\n",
        "sub = arr1 - arr2\n",
        "mul = arr1 * arr2\n",
        "div = arr1 / arr2\n",
        "\n",
        "# Конкатенація масивів\n",
        "combined = np.concatenate((arr1, arr2))\n",
        "\n",
        "# Аналіз об'єднаного масиву\n",
        "maximum = np.max(combined)\n",
        "minimum = np.min(combined)\n",
        "summation = np.sum(combined)\n",
        "product = np.prod(combined)\n",
        "\n",
        "end_numpy = time.time()\n",
        "\n",
        "# Виведення результатів\n",
        "print(\"\\n➡ Арифметичні операції (NumPy):\")\n",
        "print(\"Сума:\", add)\n",
        "print(\"Різниця:\", sub)\n",
        "print(\"Множення:\", mul)\n",
        "print(\"Ділення:\", div)\n",
        "\n",
        "print(\"\\n➡ Об'єднаний масив:\", combined)\n",
        "print(\"Максимум:\", maximum)\n",
        "print(\"Мінімум:\", minimum)\n",
        "print(\"Сума елементів:\", summation)\n",
        "print(\"Добуток елементів:\", product)\n",
        "\n",
        "print(f\"\\n⏱ Час виконання з NumPy: {end_numpy - start_numpy:.8f} секунд\")\n"
      ],
      "metadata": {
        "id": "hmQDzFBju4BU"
      },
      "execution_count": null,
      "outputs": []
    }
  ]
}